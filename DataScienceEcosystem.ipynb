{
 "cells": [
  {
   "cell_type": "markdown",
   "id": "6fb81f6d-4237-46ba-95f2-1e052924f07c",
   "metadata": {},
   "source": [
    "# Data Science Tools and Ecosystem"
   ]
  },
  {
   "cell_type": "markdown",
   "id": "07fd4632-2e22-48fa-a550-be6ff0463130",
   "metadata": {},
   "source": [
    "## Author\n",
    "Claudiu Curin"
   ]
  },
  {
   "cell_type": "markdown",
   "id": "d763b8e9-63cd-466d-95c6-808eae6033f1",
   "metadata": {},
   "source": [
    "**Objectives:**\n",
    "* Knowledge of the main Data Science languages\n",
    "* Understanding libraries, API's, Datasets and Models\n",
    "* Introduction to Juniper Notebook\n",
    "* Introduction to R and R Studio\n",
    "* Introduction to Git and GitHub"
   ]
  },
  {
   "cell_type": "markdown",
   "id": "eb2ad889-d382-448d-a046-dc52b95f7b21",
   "metadata": {},
   "source": [
    "In this notebook, Data Science Tools and Ecosystem are summarized."
   ]
  },
  {
   "cell_type": "markdown",
   "id": "54639c0c-09c2-4c5d-a18b-3bc8b8ee0aea",
   "metadata": {},
   "source": [
    "Some of the popular languages that Data Scientists use are:\n",
    "1. Python\n",
    "3. SQL\n",
    "5. Scala\n",
    "6. Java\n",
    "4. Julia\n",
    "2. R"
   ]
  },
  {
   "cell_type": "markdown",
   "id": "a8154f6f-135f-4b90-9f45-e1248feb4db7",
   "metadata": {},
   "source": [
    "Some of the commonly used libraries used by Data Scientists include:\n",
    "1. Pandas\n",
    "2. NumPy\n",
    "4. PyTorch\n",
    "5. GGplot\n",
    "3. TensorFlow\n",
    "6. caret"
   ]
  },
  {
   "cell_type": "markdown",
   "id": "e5c675e2-c6b5-4c06-8f32-9c76984e1eb5",
   "metadata": {},
   "source": [
    "|Data Science Tools|\n",
    "|-----|\n",
    "|Jupyter Notebook|\n",
    "|RStudio|\n",
    "|VS Code|"
   ]
  },
  {
   "cell_type": "markdown",
   "id": "0c6507c0-2978-4f1c-a1d2-b84ee5743ae3",
   "metadata": {},
   "source": [
    "### Below are a few examples of evaluating arithmetic expressions in Python"
   ]
  },
  {
   "cell_type": "code",
   "execution_count": 1,
   "id": "a622e37f-f53a-4c21-8976-f999a4a8630f",
   "metadata": {
    "tags": []
   },
   "outputs": [
    {
     "data": {
      "text/plain": [
       "17"
      ]
     },
     "execution_count": 1,
     "metadata": {},
     "output_type": "execute_result"
    }
   ],
   "source": [
    "# This a simple arithmetic expression to mutiply then add integers\n",
    "(3*4)+5"
   ]
  },
  {
   "cell_type": "code",
   "execution_count": 2,
   "id": "84392b01-c96b-46cf-8465-31be8d465532",
   "metadata": {
    "tags": []
   },
   "outputs": [
    {
     "name": "stdout",
     "output_type": "stream",
     "text": [
      "3.3333333333333335\n"
     ]
    }
   ],
   "source": [
    "# This will convert 200 minutes to hours by dividing by 60\n",
    "minutes = 200\n",
    "hours = minutes / 60\n",
    "print(hours)"
   ]
  },
  {
   "cell_type": "code",
   "execution_count": null,
   "id": "8dec210e-f55e-4dc0-ab25-be1e6274050c",
   "metadata": {},
   "outputs": [],
   "source": []
  }
 ],
 "metadata": {
  "kernelspec": {
   "display_name": "Python",
   "language": "python",
   "name": "conda-env-python-py"
  },
  "language_info": {
   "codemirror_mode": {
    "name": "ipython",
    "version": 3
   },
   "file_extension": ".py",
   "mimetype": "text/x-python",
   "name": "python",
   "nbconvert_exporter": "python",
   "pygments_lexer": "ipython3",
   "version": "3.7.12"
  }
 },
 "nbformat": 4,
 "nbformat_minor": 5
}
